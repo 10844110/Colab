{
  "nbformat": 4,
  "nbformat_minor": 0,
  "metadata": {
    "colab": {
      "provenance": [],
      "gpuType": "T4",
      "authorship_tag": "ABX9TyNi0XXkglwSnodtIeNW1V2z",
      "include_colab_link": true
    },
    "kernelspec": {
      "name": "python3",
      "display_name": "Python 3"
    },
    "language_info": {
      "name": "python"
    },
    "accelerator": "GPU"
  },
  "cells": [
    {
      "cell_type": "markdown",
      "metadata": {
        "id": "view-in-github",
        "colab_type": "text"
      },
      "source": [
        "<a href=\"https://colab.research.google.com/github/10844110/Colab/blob/main/Assignment_1.ipynb\" target=\"_parent\"><img src=\"https://colab.research.google.com/assets/colab-badge.svg\" alt=\"Open In Colab\"/></a>"
      ]
    },
    {
      "cell_type": "code",
      "source": [
        "import torch\n",
        "print(\"PyTorch version:\", torch.__version__)\n",
        "print(\"CUDA available:\", torch.cuda.is_available())"
      ],
      "metadata": {
        "colab": {
          "base_uri": "https://localhost:8080/"
        },
        "id": "Y3bfAjqcdF_j",
        "outputId": "13d7eef1-4d2e-4804-8192-b314ba67ba7a"
      },
      "execution_count": 1,
      "outputs": [
        {
          "output_type": "stream",
          "name": "stdout",
          "text": [
            "PyTorch version: 2.8.0+cu126\n",
            "CUDA available: True\n"
          ]
        }
      ]
    },
    {
      "cell_type": "code",
      "source": [
        "from torchvision import datasets, transforms\n",
        "from torch.utils.data import DataLoader\n",
        "\n",
        "BATCH_SIZE = 64\n",
        "\n",
        "transform = transforms.Compose([\n",
        "    transforms.ToTensor(),\n",
        "    transforms.Normalize((0.1307,), (0.3081,))\n",
        "])\n",
        "\n",
        "train_ds = datasets.MNIST(\"./data\", train=True, download=True, transform=transform)\n",
        "test_ds  = datasets.MNIST(\"./data\", train=False, download=True, transform=transform)\n",
        "\n",
        "train_loader = DataLoader(train_ds, batch_size=BATCH_SIZE, shuffle=True,  num_workers=2, pin_memory=True)\n",
        "test_loader  = DataLoader(test_ds,  batch_size=BATCH_SIZE, shuffle=False, num_workers=2, pin_memory=True)\n",
        "\n",
        "len(train_ds), len(test_ds)"
      ],
      "metadata": {
        "colab": {
          "base_uri": "https://localhost:8080/"
        },
        "id": "E2HSlWF8dSyT",
        "outputId": "c5ed1e98-e0be-4486-e946-dd2bea3edbc5"
      },
      "execution_count": 2,
      "outputs": [
        {
          "output_type": "stream",
          "name": "stderr",
          "text": [
            "100%|██████████| 9.91M/9.91M [00:00<00:00, 20.8MB/s]\n",
            "100%|██████████| 28.9k/28.9k [00:00<00:00, 492kB/s]\n",
            "100%|██████████| 1.65M/1.65M [00:00<00:00, 4.58MB/s]\n",
            "100%|██████████| 4.54k/4.54k [00:00<00:00, 8.93MB/s]\n"
          ]
        },
        {
          "output_type": "execute_result",
          "data": {
            "text/plain": [
              "(60000, 10000)"
            ]
          },
          "metadata": {},
          "execution_count": 2
        }
      ]
    },
    {
      "cell_type": "code",
      "source": [
        "import matplotlib.pyplot as plt\n",
        "\n",
        "images, labels = next(iter(train_loader))\n",
        "plt.figure(figsize=(4,4))\n",
        "for i in range(9):\n",
        "    plt.subplot(3,3,i+1)\n",
        "    plt.imshow(images[i,0], cmap=\"gray\")\n",
        "    plt.title(int(labels[i]))\n",
        "    plt.axis(\"off\")\n",
        "plt.tight_layout()\n",
        "plt.show()"
      ],
      "metadata": {
        "colab": {
          "base_uri": "https://localhost:8080/",
          "height": 407
        },
        "id": "0HkPsnQyerxP",
        "outputId": "3f47476e-5fa5-41d2-fcf5-9931c5330149"
      },
      "execution_count": 3,
      "outputs": [
        {
          "output_type": "display_data",
          "data": {
            "text/plain": [
              "<Figure size 400x400 with 9 Axes>"
            ],
            "image/png": "[encoded data removed]"
          },
          "metadata": {}
        }
      ]
    },
    {
      "cell_type": "code",
      "source": [
        "import torch\n",
        "import torch.nn as nn\n",
        "import torch.nn.functional as F\n",
        "\n",
        "class MLP(nn.Module):\n",
        "    def __init__(self):\n",
        "        super().__init__()\n",
        "        self.fc1 = nn.Linear(28*28, 100)  # 784 → 100\n",
        "        self.fc2 = nn.Linear(100, 10)     # 100 → 10\n",
        "\n",
        "    def forward(self, x):\n",
        "        x = x.view(x.size(0), -1)         # flatten (N,1,28,28) → (N,784)\n",
        "        x = F.relu(self.fc1(x))           # hidden activation\n",
        "        x = F.log_softmax(self.fc2(x), dim=1)  # output activation\n",
        "        return x\n",
        "\n",
        "device = torch.device(\"cuda\" if torch.cuda.is_available() else \"cpu\")\n",
        "model = MLP().to(device)\n",
        "model"
      ],
      "metadata": {
        "colab": {
          "base_uri": "https://localhost:8080/"
        },
        "id": "Zonq2F54ev4D",
        "outputId": "a2201564-b98e-40e7-f4a7-9cdca4cd8bb3"
      },
      "execution_count": 4,
      "outputs": [
        {
          "output_type": "execute_result",
          "data": {
            "text/plain": [
              "MLP(\n",
              "  (fc1): Linear(in_features=784, out_features=100, bias=True)\n",
              "  (fc2): Linear(in_features=100, out_features=10, bias=True)\n",
              ")"
            ]
          },
          "metadata": {},
          "execution_count": 4
        }
      ]
    },
    {
      "cell_type": "code",
      "source": [
        "criterion = nn.NLLLoss()\n",
        "optimizer = torch.optim.SGD(model.parameters(), lr=0.01, momentum=0.5)"
      ],
      "metadata": {
        "id": "kvuSfhzke0KR"
      },
      "execution_count": 5,
      "outputs": []
    },
    {
      "cell_type": "code",
      "source": [
        "import time\n",
        "EPOCHS = 50\n",
        "train_losses = []\n",
        "\n",
        "t0 = time.time()\n",
        "for ep in range(1, EPOCHS+1):\n",
        "    model.train()\n",
        "    running = 0.0\n",
        "    for xb, yb in train_loader:\n",
        "        xb, yb = xb.to(device, non_blocking=True), yb.to(device, non_blocking=True)\n",
        "        optimizer.zero_grad()\n",
        "        logprobs = model(xb)\n",
        "        loss = criterion(logprobs, yb)\n",
        "        loss.backward()\n",
        "        optimizer.step()\n",
        "        running += loss.item() * xb.size(0)\n",
        "\n",
        "    avg = running / len(train_loader.dataset)\n",
        "    train_losses.append(avg)\n",
        "    print(f\"Epoch {ep:02d}/{EPOCHS} - train loss: {avg:.4f}\")\n",
        "\n",
        "t_train = time.time() - t0\n",
        "print(f\"Total training time on {device}: {t_train:.2f}s\")"
      ],
      "metadata": {
        "colab": {
          "base_uri": "https://localhost:8080/"
        },
        "id": "ZiHzWZNze5cj",
        "outputId": "584964f9-15da-4fb9-ab14-f4ed752ea9b4"
      },
      "execution_count": 6,
      "outputs": [
        {
          "output_type": "stream",
          "name": "stdout",
          "text": [
            "Epoch 01/50 - train loss: 0.4471\n",
            "Epoch 02/50 - train loss: 0.2385\n",
            "Epoch 03/50 - train loss: 0.1869\n",
            "Epoch 04/50 - train loss: 0.1552\n",
            "Epoch 05/50 - train loss: 0.1330\n",
            "Epoch 06/50 - train loss: 0.1168\n",
            "Epoch 07/50 - train loss: 0.1045\n",
            "Epoch 08/50 - train loss: 0.0943\n",
            "Epoch 09/50 - train loss: 0.0862\n",
            "Epoch 10/50 - train loss: 0.0789\n",
            "Epoch 11/50 - train loss: 0.0728\n",
            "Epoch 12/50 - train loss: 0.0678\n",
            "Epoch 13/50 - train loss: 0.0630\n",
            "Epoch 14/50 - train loss: 0.0589\n",
            "Epoch 15/50 - train loss: 0.0553\n",
            "Epoch 16/50 - train loss: 0.0520\n",
            "Epoch 17/50 - train loss: 0.0487\n",
            "Epoch 18/50 - train loss: 0.0460\n",
            "Epoch 19/50 - train loss: 0.0436\n",
            "Epoch 20/50 - train loss: 0.0413\n",
            "Epoch 21/50 - train loss: 0.0389\n",
            "Epoch 22/50 - train loss: 0.0367\n",
            "Epoch 23/50 - train loss: 0.0349\n",
            "Epoch 24/50 - train loss: 0.0332\n",
            "Epoch 25/50 - train loss: 0.0314\n",
            "Epoch 26/50 - train loss: 0.0299\n",
            "Epoch 27/50 - train loss: 0.0283\n",
            "Epoch 28/50 - train loss: 0.0272\n",
            "Epoch 29/50 - train loss: 0.0257\n",
            "Epoch 30/50 - train loss: 0.0247\n",
            "Epoch 31/50 - train loss: 0.0233\n",
            "Epoch 32/50 - train loss: 0.0226\n",
            "Epoch 33/50 - train loss: 0.0214\n",
            "Epoch 34/50 - train loss: 0.0205\n",
            "Epoch 35/50 - train loss: 0.0195\n",
            "Epoch 36/50 - train loss: 0.0186\n",
            "Epoch 37/50 - train loss: 0.0179\n",
            "Epoch 38/50 - train loss: 0.0172\n",
            "Epoch 39/50 - train loss: 0.0165\n",
            "Epoch 40/50 - train loss: 0.0157\n",
            "Epoch 41/50 - train loss: 0.0150\n",
            "Epoch 42/50 - train loss: 0.0144\n",
            "Epoch 43/50 - train loss: 0.0138\n",
            "Epoch 44/50 - train loss: 0.0133\n",
            "Epoch 45/50 - train loss: 0.0128\n",
            "Epoch 46/50 - train loss: 0.0123\n",
            "Epoch 47/50 - train loss: 0.0119\n",
            "Epoch 48/50 - train loss: 0.0113\n",
            "Epoch 49/50 - train loss: 0.0110\n",
            "Epoch 50/50 - train loss: 0.0106\n",
            "Total training time on cuda: 598.77s\n"
          ]
        }
      ]
    },
    {
      "cell_type": "code",
      "source": [
        "plt.figure()\n",
        "plt.plot(range(1, EPOCHS+1), train_losses)\n",
        "plt.xlabel(\"Epoch\")\n",
        "plt.ylabel(\"Training Loss (NLL)\")\n",
        "plt.title(\"Training Loss over 50 Epochs\")\n",
        "plt.grid(True)\n",
        "plt.show()"
      ],
      "metadata": {
        "colab": {
          "base_uri": "https://localhost:8080/",
          "height": 472
        },
        "id": "sM0NqkI0hVAi",
        "outputId": "1d6ec545-425f-470a-eeab-744887926d68"
      },
      "execution_count": 7,
      "outputs": [
        {
          "output_type": "display_data",
          "data": {
            "text/plain": [
              "<Figure size 640x480 with 1 Axes>"
            ],
            "image/png": "[encoded data removed]"
          },
          "metadata": {}
        }
      ]
    },
    {
      "cell_type": "code",
      "source": [
        "model.eval()\n",
        "test_loss, correct, total = 0.0, 0, 0\n",
        "\n",
        "with torch.no_grad():\n",
        "    for xb, yb in test_loader:\n",
        "        xb, yb = xb.to(device), yb.to(device)\n",
        "        logprobs = model(xb)\n",
        "        test_loss += criterion(logprobs, yb).item() * xb.size(0)\n",
        "        pred = logprobs.argmax(dim=1)\n",
        "        correct += (pred == yb).sum().item()\n",
        "        total += yb.size(0)\n",
        "\n",
        "test_loss /= total\n",
        "acc = correct / total * 100\n",
        "print(f\"Test Loss: {test_loss:.4f} | Test Accuracy: {acc:.2f}%\")"
      ],
      "metadata": {
        "colab": {
          "base_uri": "https://localhost:8080/"
        },
        "id": "Zchr3TEwhZew",
        "outputId": "7e4bc968-1956-454f-8adf-fb4279a18812"
      },
      "execution_count": 8,
      "outputs": [
        {
          "output_type": "stream",
          "name": "stdout",
          "text": [
            "Test Loss: 0.0700 | Test Accuracy: 98.00%\n"
          ]
        }
      ]
    },
    {
      "cell_type": "code",
      "source": [
        "def time_training(device_str=\"cpu\", epochs=5):\n",
        "    dv = torch.device(device_str)\n",
        "    net = MLP().to(dv)\n",
        "    opt = torch.optim.SGD(net.parameters(), lr=0.01, momentum=0.5)\n",
        "    crit = nn.NLLLoss()\n",
        "    t0 = time.time()\n",
        "    net.train()\n",
        "    for _ in range(epochs):\n",
        "        for xb, yb in train_loader:\n",
        "            xb, yb = xb.to(dv, non_blocking=True), yb.to(dv, non_blocking=True)\n",
        "            opt.zero_grad()\n",
        "            loss = crit(net(xb), yb)\n",
        "            loss.backward()\n",
        "            opt.step()\n",
        "    return time.time() - t0\n",
        "\n",
        "cpu_time = time_training(\"cpu\", epochs=5)\n",
        "print(f\"CPU time (5 epochs): {cpu_time:.2f}s\")\n",
        "\n",
        "if torch.cuda.is_available():\n",
        "    gpu_time = time_training(\"cuda\", epochs=5)\n",
        "    print(f\"GPU time (5 epochs): {gpu_time:.2f}s\")\n",
        "else:\n",
        "    print(\"CUDA not available.\")"
      ],
      "metadata": {
        "colab": {
          "base_uri": "https://localhost:8080/"
        },
        "id": "Du7Z4j2rhgYU",
        "outputId": "f01c5460-cf9a-4d42-8484-ddfd81cf878e"
      },
      "execution_count": 9,
      "outputs": [
        {
          "output_type": "stream",
          "name": "stdout",
          "text": [
            "CPU time (5 epochs): 61.75s\n",
            "GPU time (5 epochs): 59.20s\n"
          ]
        }
      ]
    }
  ]
}